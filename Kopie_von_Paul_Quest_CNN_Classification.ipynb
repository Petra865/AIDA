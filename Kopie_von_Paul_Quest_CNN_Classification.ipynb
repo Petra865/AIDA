{
  "nbformat": 4,
  "nbformat_minor": 0,
  "metadata": {
    "accelerator": "TPU",
    "colab": {
      "name": "Kopie von Paul_Quest CNN Classification.ipynb",
      "provenance": [],
      "collapsed_sections": [],
      "include_colab_link": true
    },
    "kernelspec": {
      "display_name": "Python 3",
      "name": "python3"
    }
  },
  "cells": [
    {
      "cell_type": "markdown",
      "metadata": {
        "id": "view-in-github",
        "colab_type": "text"
      },
      "source": [
        "<a href=\"https://colab.research.google.com/github/Petra865/AIDA/blob/master/Kopie_von_Paul_Quest_CNN_Classification.ipynb\" target=\"_parent\"><img src=\"https://colab.research.google.com/assets/colab-badge.svg\" alt=\"Open In Colab\"/></a>"
      ]
    },
    {
      "cell_type": "markdown",
      "metadata": {
        "id": "eLMV7W2SpmS_"
      },
      "source": [
        "# Preparation"
      ]
    },
    {
      "cell_type": "code",
      "metadata": {
        "id": "Nh3aDkAmUPMe"
      },
      "source": [
        "import tensorflow as tf\n",
        "\n",
        "from tensorflow.keras import datasets, layers, models\n",
        "import tensorflow_datasets as tfds\n",
        "\n",
        "import matplotlib.pyplot as plt"
      ],
      "execution_count": null,
      "outputs": []
    },
    {
      "cell_type": "code",
      "metadata": {
        "colab": {
          "base_uri": "https://localhost:8080/"
        },
        "id": "vZT5_O_l0bqT",
        "outputId": "91b0e283-98a0-49c3-9979-6e9cfb9980d3"
      },
      "source": [
        "(train_images, train_labels), (test_images, test_labels) = datasets.cifar10.load_data()"
      ],
      "execution_count": null,
      "outputs": [
        {
          "output_type": "stream",
          "text": [
            "Downloading data from https://www.cs.toronto.edu/~kriz/cifar-10-python.tar.gz\n",
            "170500096/170498071 [==============================] - 2s 0us/step\n"
          ],
          "name": "stdout"
        }
      ]
    },
    {
      "cell_type": "code",
      "metadata": {
        "id": "rgtzfj5f0cfG"
      },
      "source": [
        "class_names = ['airplane', 'automobile', 'bird', 'cat', 'deer',\n",
        "               'dog', 'frog', 'horse', 'ship', 'truck']"
      ],
      "execution_count": null,
      "outputs": []
    },
    {
      "cell_type": "markdown",
      "metadata": {
        "id": "9McRkqNvscOz"
      },
      "source": [
        "In this quest, you will work with the [CIFAR-10 dataset](https://www.cs.toronto.edu/~kriz/cifar.html). It contains 60000 32x32 colour images in 10 classes, with 6000 images per class. Your task will be predicting image classes.\n"
      ]
    },
    {
      "cell_type": "markdown",
      "metadata": {
        "id": "gs2BVhIgsKCD"
      },
      "source": [
        "# Tasks"
      ]
    },
    {
      "cell_type": "markdown",
      "metadata": {
        "id": "mp1MM9_DsuhS"
      },
      "source": [
        "Normalize pixel values of both train and test images to the values in the range between 0 and 1"
      ]
    },
    {
      "cell_type": "code",
      "metadata": {
        "colab": {
          "base_uri": "https://localhost:8080/"
        },
        "id": "tZvltTnThxQz",
        "outputId": "5f7a4e03-97a7-4cb6-d210-54efff862eac"
      },
      "source": [
        "train_images.shape"
      ],
      "execution_count": null,
      "outputs": [
        {
          "output_type": "execute_result",
          "data": {
            "text/plain": [
              "(50000, 32, 32, 3)"
            ]
          },
          "metadata": {
            "tags": []
          },
          "execution_count": 4
        }
      ]
    },
    {
      "cell_type": "code",
      "metadata": {
        "id": "zB-lwTEnjaXq"
      },
      "source": [
        "img_gen = tf.keras.preprocessing.image.ImageDataGenerator(\n",
        "    rescale=1./255.,\n",
        ")\n",
        "train_data = img_gen.flow(train_images, train_labels)\n",
        "test_data = img_gen.flow(test_images, test_labels)"
      ],
      "execution_count": null,
      "outputs": []
    },
    {
      "cell_type": "markdown",
      "metadata": {
        "id": "aCaySZ8Ss_aj"
      },
      "source": [
        "Build a sequential model with the following architecture:\n",
        "\n",
        "conv2d - (None, 30, 30, 32)  \n",
        "_________________________________________________________________\n",
        "max_pooling2d - (None, 15, 15, 32)        \n",
        "_________________________________________________________________\n",
        "conv2d - (None, 13, 13, 64)\n",
        "_________________________________________________________________\n",
        "max_pooling2d - (None, 6, 6, 64)        \n",
        "_________________________________________________________________\n",
        "conv2d - (None, 4, 4, 128) \n",
        "_________________________________________________________________\n",
        "flatten - (None, 2048)       \n",
        "_________________________________________________________________\n",
        "dense - (None, 64)    \n",
        "_________________________________________________________________\n",
        "dense - (None, 10)       \n"
      ]
    },
    {
      "cell_type": "code",
      "metadata": {
        "colab": {
          "base_uri": "https://localhost:8080/"
        },
        "id": "lZBGvhl0sDWI",
        "outputId": "f5636b70-f081-4922-b24c-7ecd65f3949c"
      },
      "source": [
        "# your code\n",
        "import tensorflow as tf\n",
        "\n",
        "\n",
        "model = tf.keras.models.Sequential(\n",
        "    [\n",
        "     tf.keras.Input(shape=(32, 32, 3)),\n",
        "     tf.keras.layers.Conv2D(32, 3, activation='relu'),\n",
        "     tf.keras.layers.MaxPool2D((2,2)),\n",
        "     tf.keras.layers.Conv2D(64, 3, activation='relu'),\n",
        "     tf.keras.layers.MaxPool2D((2,2)),\n",
        "     tf.keras.layers.Conv2D(128, 3, activation='relu'),\n",
        "     tf.keras.layers.Flatten(),\n",
        "     tf.keras.layers.Dense(64, activation='relu'),\n",
        "     tf.keras.layers.Dense(10, activation='softmax'),\n",
        "    ]\n",
        ")\n",
        "model.summary()"
      ],
      "execution_count": null,
      "outputs": [
        {
          "output_type": "stream",
          "text": [
            "Model: \"sequential\"\n",
            "_________________________________________________________________\n",
            "Layer (type)                 Output Shape              Param #   \n",
            "=================================================================\n",
            "conv2d (Conv2D)              (None, 30, 30, 32)        896       \n",
            "_________________________________________________________________\n",
            "max_pooling2d (MaxPooling2D) (None, 15, 15, 32)        0         \n",
            "_________________________________________________________________\n",
            "conv2d_1 (Conv2D)            (None, 13, 13, 64)        18496     \n",
            "_________________________________________________________________\n",
            "max_pooling2d_1 (MaxPooling2 (None, 6, 6, 64)          0         \n",
            "_________________________________________________________________\n",
            "conv2d_2 (Conv2D)            (None, 4, 4, 128)         73856     \n",
            "_________________________________________________________________\n",
            "flatten (Flatten)            (None, 2048)              0         \n",
            "_________________________________________________________________\n",
            "dense (Dense)                (None, 64)                131136    \n",
            "_________________________________________________________________\n",
            "dense_1 (Dense)              (None, 10)                650       \n",
            "=================================================================\n",
            "Total params: 225,034\n",
            "Trainable params: 225,034\n",
            "Non-trainable params: 0\n",
            "_________________________________________________________________\n"
          ],
          "name": "stdout"
        }
      ]
    },
    {
      "cell_type": "markdown",
      "metadata": {
        "id": "2blKJv2huDPh"
      },
      "source": [
        "Compile the model using Adam optimizer, sparse categorical crossentropy as loss function, and MSE as error metric. Use 10 epochs to train the model."
      ]
    },
    {
      "cell_type": "code",
      "metadata": {
        "colab": {
          "background_save": true,
          "base_uri": "https://localhost:8080/"
        },
        "id": "flXnIRIG09nO",
        "outputId": "d0d9464f-29c2-478f-b8ca-7d5b480997a3"
      },
      "source": [
        "# your code\n",
        "model.compile(loss=\"sparse_categorical_crossentropy\", optimizer=\"adam\", metrics=[\"mean_squared_error\"])\n",
        "model.fit(train_data, epochs=10)"
      ],
      "execution_count": null,
      "outputs": [
        {
          "output_type": "stream",
          "text": [
            "Epoch 1/10\n",
            "1563/1563 [==============================] - 73s 46ms/step - loss: 1.4731 - accuracy: 0.4661 - val_loss: 1.2114 - val_accuracy: 0.5623\n",
            "Epoch 2/10\n",
            "1563/1563 [==============================] - 72s 46ms/step - loss: 1.0726 - accuracy: 0.6215 - val_loss: 1.0292 - val_accuracy: 0.6391\n",
            "Epoch 3/10\n",
            "1563/1563 [==============================] - 72s 46ms/step - loss: 0.9091 - accuracy: 0.6804 - val_loss: 0.8911 - val_accuracy: 0.6927\n",
            "Epoch 4/10\n",
            "1563/1563 [==============================] - 72s 46ms/step - loss: 0.8040 - accuracy: 0.7189 - val_loss: 0.8948 - val_accuracy: 0.6906\n",
            "Epoch 5/10\n",
            "1563/1563 [==============================] - 72s 46ms/step - loss: 0.7191 - accuracy: 0.7497 - val_loss: 0.8419 - val_accuracy: 0.7162\n",
            "Epoch 6/10\n",
            "1563/1563 [==============================] - 74s 47ms/step - loss: 0.6528 - accuracy: 0.7710 - val_loss: 0.8472 - val_accuracy: 0.7127\n",
            "Epoch 7/10\n",
            "1563/1563 [==============================] - 75s 48ms/step - loss: 0.5941 - accuracy: 0.7900 - val_loss: 0.8788 - val_accuracy: 0.7038\n",
            "Epoch 8/10\n",
            "1563/1563 [==============================] - 72s 46ms/step - loss: 0.5407 - accuracy: 0.8096 - val_loss: 0.8527 - val_accuracy: 0.7191\n",
            "Epoch 9/10\n",
            "1563/1563 [==============================] - 75s 48ms/step - loss: 0.4895 - accuracy: 0.8276 - val_loss: 0.9210 - val_accuracy: 0.7136\n",
            "Epoch 10/10\n",
            "1563/1563 [==============================] - 73s 46ms/step - loss: 0.4459 - accuracy: 0.8421 - val_loss: 0.9471 - val_accuracy: 0.7133\n"
          ],
          "name": "stdout"
        }
      ]
    },
    {
      "cell_type": "markdown",
      "metadata": {
        "id": "tyfR1bCiucDE"
      },
      "source": [
        "Evaluate the model on test data to get the loss and accuracy metrics"
      ]
    },
    {
      "cell_type": "code",
      "metadata": {
        "colab": {
          "background_save": true
        },
        "id": "CA4Hsi6B035n",
        "outputId": "11198a70-568b-407a-b188-1109555136af"
      },
      "source": [
        "# your code\n"
      ],
      "execution_count": null,
      "outputs": [
        {
          "output_type": "stream",
          "text": [
            "313/313 - 4s - loss: 0.9471 - accuracy: 0.7133\n"
          ],
          "name": "stdout"
        },
        {
          "output_type": "display_data",
          "data": {
            "image/png": "[encoded data removed]",
            "text/plain": [
              "<Figure size 432x288 with 1 Axes>"
            ]
          },
          "metadata": {
            "tags": []
          }
        }
      ]
    }
  ]
}