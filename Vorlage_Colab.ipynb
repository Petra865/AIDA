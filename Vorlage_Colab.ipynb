{
  "nbformat": 4,
  "nbformat_minor": 0,
  "metadata": {
    "colab": {
      "name": "Vorlage_Colab.ipynb",
      "provenance": [],
      "authorship_tag": "ABX9TyMHMTXKFhgCDYkLblRcpwj9",
      "include_colab_link": true
    },
    "kernelspec": {
      "name": "python3",
      "display_name": "Python 3"
    },
    "accelerator": "GPU"
  },
  "cells": [
    {
      "cell_type": "markdown",
      "metadata": {
        "id": "view-in-github",
        "colab_type": "text"
      },
      "source": [
        "<a href=\"https://colab.research.google.com/github/Petra865/AIDA/blob/master/Vorlage_Colab.ipynb\" target=\"_parent\"><img src=\"https://colab.research.google.com/assets/colab-badge.svg\" alt=\"Open In Colab\"/></a>"
      ]
    },
    {
      "cell_type": "markdown",
      "metadata": {
        "id": "vjOBu0DC0Oat"
      },
      "source": [
        "# Titel\n",
        "**Untertitel**\n",
        "* author: [Petra Woßeng](https://github.com/Petra865)\n",
        "* For more information visit the [project](https://github.com/michalharakal/gruppe_A_quest_2.git"
      ]
    },
    {
      "cell_type": "code",
      "metadata": {
        "colab": {
          "base_uri": "https://localhost:8080/"
        },
        "id": "6evqfdSX0DXw",
        "outputId": "5a27c692-48e2-4dd4-d5b6-b004c3197387"
      },
      "source": [
        "# What version of Python do you have?\n",
        "import sys\n",
        "\n",
        "import tensorflow as tf\n",
        "import tensorflow.keras\n",
        "\n",
        "import numpy as np\n",
        "import pandas as pd   # conda import pandas\n",
        "import sklearn as sk  # conda import scikit-learn\n",
        "\n",
        "\n",
        "print(f\"Tensor Flow Version: {tf.__version__}\")\n",
        "print(f\"Keras Version: {tensorflow.keras.__version__}\")\n",
        "print()\n",
        "print(f\"Python {sys.version}\")\n",
        "print() \n",
        "print(f\"Numpy {np.__version__}\")\n",
        "print(f\"Pandas {pd.__version__}\")\n",
        "print(f\"Scikit-Learn {sk.__version__}\")\n",
        "\n",
        "\n",
        "print(\"\\n\\n========================\")\n",
        "gpu = len(tf.config.list_physical_devices('GPU'))>0\n",
        "print(\"GPU is\", \"available\" if gpu else \"NOT AVAILABLE\")\n",
        "print(\"========================\")"
      ],
      "execution_count": null,
      "outputs": [
        {
          "output_type": "stream",
          "text": [
            "Tensor Flow Version: 2.3.0\n",
            "Keras Version: 2.4.0\n",
            "\n",
            "Python 3.6.9 (default, Oct  8 2020, 12:12:24) \n",
            "[GCC 8.4.0]\n",
            "\n",
            "Numpy 1.18.5\n",
            "Pandas 1.1.4\n",
            "Scikit-Learn 0.22.2.post1\n",
            "\n",
            "\n",
            "========================\n",
            "GPU is available\n",
            "========================\n"
          ],
          "name": "stdout"
        }
      ]
    }
  ]
}